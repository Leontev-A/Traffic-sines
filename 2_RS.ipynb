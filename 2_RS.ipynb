{
 "cells": [
  {
   "cell_type": "code",
   "execution_count": 1,
   "id": "63932edc",
   "metadata": {},
   "outputs": [],
   "source": [
    "import cv2\n",
    "import numpy as np\n",
    "import pandas as pd\n",
    "from patchify import patchify\n",
    "from skimage.io import imread, imshow, imsave\n",
    "from keras.utils.all_utils import to_categorical\n",
    "from sklearn.model_selection import train_test_split\n",
    "from keras.layers import Input, Conv2D, MaxPooling2D, concatenate, Conv2DTranspose, Dropout, Flatten, Dense\n",
    "from keras.models import Model, load_model\n",
    "from keras.optimizers import adam_v2\n",
    "from keras.losses import binary_crossentropy\n",
    "from keras.applications.resnet import ResNet50\n",
    "from keras.metrics import Precision, Recall\n",
    "from sklearn.utils.class_weight import compute_class_weight"
   ]
  },
  {
   "cell_type": "code",
   "execution_count": 4,
   "id": "f8c63ac5",
   "metadata": {},
   "outputs": [],
   "source": [
    "train_img_dir = 'C:/ML/RS/train_dataset_train/train'\n",
    "size = 512\n",
    "num_classes = 69\n",
    "\n",
    "X = []\n",
    "Y = []\n",
    "for_weight = []\n",
    "data_df = pd.read_csv(\"C:/ML/RS/train_dataset_train/train.csv\")\n",
    "labels = pd.DataFrame(columns=['id', 'img', 'sing1', 'sing2', 'sing3', 'sing4', 'sing5', 'sing6', 'sing7', 'sing8'])\n",
    "for i in range(len(data_df)):\n",
    "    line = data_df.iloc[i]\n",
    "    for_weight.append([line[2], line[3], line[4], line[5], line[6], line[7], line[8], line[9]])\n",
    "    img = imread(train_img_dir + '/' + line[1])\n",
    "    img = cv2.resize(img, dsize = [size, size], interpolation=cv2.INTER_NEAREST)\n",
    "    X.append(img)\n",
    "    lb = [line[2], line[3], line[4], line[5], line[6], line[7], line[8], line[9]]\n",
    "    cat_lb = to_categorical(lb, num_classes=num_classes+1, dtype='uint8')\n",
    "    out_lb = cat_lb[0] + cat_lb[1] + cat_lb[2] + cat_lb[3] + cat_lb[4] + cat_lb[5] + cat_lb[6] + cat_lb[7]\n",
    "    out_lb = np.delete(out_lb, 0)\n",
    "    Y.append(out_lb)\n",
    "X = np.array(X)\n",
    "Y = np.array(Y)\n",
    "for_weight = np.array(for_weight)"
   ]
  },
  {
   "cell_type": "code",
   "execution_count": 5,
   "id": "1ac64fb0",
   "metadata": {},
   "outputs": [],
   "source": [
    "for_weight_flatten = for_weight.reshape(for_weight.shape[0]*for_weight.shape[1])\n",
    "weight_array = compute_class_weight(class_weight='balanced', classes=np.unique(for_weight_flatten), y=for_weight_flatten)\n",
    "\n",
    "weight_dict = dict(zip(np.unique(for_weight_flatten), weight_array))\n",
    "del weight_dict[0]\n",
    "weight_dict.update({53: 1.0})\n",
    "weight_dict.update({64: 1.0})\n",
    "weight_dict = dict(sorted(weight_dict.items()))\n",
    "new_dict = {}\n",
    "for i in range(len(weight_dict)):\n",
    "    new_dict[i] = weight_dict[i+1]"
   ]
  },
  {
   "cell_type": "code",
   "execution_count": 6,
   "id": "50ab1f1d",
   "metadata": {},
   "outputs": [],
   "source": [
    "X_train, X_test, Y_train, Y_test = train_test_split(X, Y, test_size=0.25, random_state=42)"
   ]
  },
  {
   "cell_type": "code",
   "execution_count": 7,
   "id": "c4318b4e",
   "metadata": {},
   "outputs": [],
   "source": [
    "base_model = ResNet50(weights='imagenet', input_shape=(size,size,3), include_top=False)\n",
    "base_out = base_model.output"
   ]
  },
  {
   "cell_type": "code",
   "execution_count": 8,
   "id": "6051ab7b",
   "metadata": {},
   "outputs": [],
   "source": [
    "x = base_out\n",
    "x = Conv2D(1024, (3, 3), activation='relu', kernel_initializer='he_normal', padding='same')(x)\n",
    "x = MaxPooling2D((2, 2))(x)\n",
    "x = Conv2D(512, (3, 3), activation='relu', kernel_initializer='he_normal', padding='same')(x)\n",
    "x = MaxPooling2D((2, 2))(x)\n",
    "x = Conv2D(256, (3, 3), activation='relu', kernel_initializer='he_normal', padding='same')(x)\n",
    "x = Flatten()(x)\n",
    "num_neurons = x.shape[1]\n",
    "x = Dense(num_neurons, activation = 'relu')(x)\n",
    "x = Dense(1024, activation = 'relu')(x)\n",
    "outputs = Dense(num_classes, activation = 'sigmoid')(x)"
   ]
  },
  {
   "cell_type": "code",
   "execution_count": 9,
   "id": "28b03f46",
   "metadata": {},
   "outputs": [],
   "source": [
    "model = Model(inputs=base_model.inputs, outputs=outputs)"
   ]
  },
  {
   "cell_type": "code",
   "execution_count": null,
   "id": "f862bf25",
   "metadata": {},
   "outputs": [
    {
     "name": "stdout",
     "output_type": "stream",
     "text": [
      " 23/146 [===>..........................] - ETA: 11:14 - loss: 0.6668 - accuracy: 0.0543 - recall: 0.0426"
     ]
    }
   ],
   "source": [
    "model.compile(optimizer=adam_v2.Adam(learning_rate=1e-4), loss='binary_crossentropy', metrics=[\"accuracy\", Recall()])\n",
    "model.fit(X_train, Y_train, epochs=1, batch_size=4, class_weight=new_dict, validation_data=(X_test, Y_test), verbose=1)"
   ]
  },
  {
   "cell_type": "code",
   "execution_count": 42,
   "id": "8a496af9",
   "metadata": {},
   "outputs": [],
   "source": [
    "test_img_dir = 'C:/ML/RS/test_dataset_test/test'\n",
    "treshold = 0.75\n",
    "out_path = 'C:/ML/RS/Results/attempt_2/'\n",
    "\n",
    "data_df_test = pd.read_csv(\"C:/ML/RS/test_dataset_test/test.csv\")\n",
    "labels = pd.DataFrame(columns=['id', 'sing1', 'sing2', 'sing3', 'sing4', 'sing5', 'sing6', 'sing7', 'sing8'])\n",
    "for i in range(len(data_df_test)):\n",
    "    line = data_df_test.iloc[i]\n",
    "    img = imread(test_img_dir + '/' + line[1])\n",
    "    img = cv2.resize(img, dsize = [size, size], interpolation=cv2.INTER_NEAREST)\n",
    "    test_img_input = np.expand_dims(img, 0)\n",
    "    prediction = np.squeeze(model.predict(test_img_input))\n",
    "    prediction[prediction>=treshold] = 1\n",
    "    prediction[prediction<treshold] = 0\n",
    "    prediction = prediction.astype('uint8')\n",
    "    indx = [0, 0, 0, 0, 0, 0, 0, 0]\n",
    "    count = 0\n",
    "    for num, value in enumerate(prediction):\n",
    "        if value == 1:\n",
    "            indx[count] = num + 1\n",
    "            count += 1\n",
    "            if count > 7:\n",
    "                break\n",
    "    new_line = {'id'   :line[0],\n",
    "                'sing1':indx[0],\n",
    "                'sing2':indx[1],\n",
    "                'sing3':indx[2],\n",
    "                'sing4':indx[3],\n",
    "                'sing5':indx[4],\n",
    "                'sing6':indx[5],\n",
    "                'sing7':indx[6],\n",
    "                'sing8':indx[7]}\n",
    "    labels = labels.append(new_line, ignore_index=True)\n",
    "labels.to_csv(out_path + 'Out_labels_2_1.csv', index=False)"
   ]
  }
 ],
 "metadata": {
  "kernelspec": {
   "display_name": "Python 3 (ipykernel)",
   "language": "python",
   "name": "python3"
  },
  "language_info": {
   "codemirror_mode": {
    "name": "ipython",
    "version": 3
   },
   "file_extension": ".py",
   "mimetype": "text/x-python",
   "name": "python",
   "nbconvert_exporter": "python",
   "pygments_lexer": "ipython3",
   "version": "3.9.7"
  }
 },
 "nbformat": 4,
 "nbformat_minor": 5
}
